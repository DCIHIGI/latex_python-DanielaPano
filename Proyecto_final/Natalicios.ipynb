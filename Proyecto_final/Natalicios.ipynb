{
 "cells": [
  {
   "cell_type": "code",
   "execution_count": 5,
   "id": "8c4095e8-140d-439c-9c61-f12770d74890",
   "metadata": {},
   "outputs": [],
   "source": [
    "##Importar librerías a utilizar\n",
    "import numpy as np \n",
    "import matplotlib.pyplot as plt\n",
    "from scipy.optimize import minimize\n",
    "import os\n",
    "import glob\n",
    "import pandas as pd\n",
    "import re\n",
    "import seaborn as sns"
   ]
  },
  {
   "cell_type": "code",
   "execution_count": 6,
   "id": "21baceca-ff25-4c28-af6f-4f59e1f1d73d",
   "metadata": {},
   "outputs": [],
   "source": [
    "import glob\n",
    "files=glob.glob(\"./archivos//*.csv\")"
   ]
  },
  {
   "cell_type": "code",
   "execution_count": 7,
   "id": "80c0a272-c53e-4dc6-a10f-10c6625132b5",
   "metadata": {},
   "outputs": [
    {
     "data": {
      "text/plain": [
       "['./archivos\\\\2015 Births.csv',\n",
       " './archivos\\\\2016 Births.csv',\n",
       " './archivos\\\\2017 Births.csv',\n",
       " './archivos\\\\2018 Births.csv',\n",
       " './archivos\\\\2019 Births.csv']"
      ]
     },
     "execution_count": 7,
     "metadata": {},
     "output_type": "execute_result"
    }
   ],
   "source": [
    "files"
   ]
  },
  {
   "cell_type": "code",
   "execution_count": 8,
   "id": "5a359403-7272-4d06-9b12-9f690c64b07c",
   "metadata": {},
   "outputs": [],
   "source": [
    "data1=pd.read_csv(files[0],usecols=[0,1,2,3,6])\n",
    "data1_MX=data1[data1['Country']==' Mexico  ']"
   ]
  },
  {
   "cell_type": "code",
   "execution_count": 9,
   "id": "f0064d52-bc58-4bac-a82b-ea0706508ac6",
   "metadata": {},
   "outputs": [
    {
     "data": {
      "text/html": [
       "<div>\n",
       "<style scoped>\n",
       "    .dataframe tbody tr th:only-of-type {\n",
       "        vertical-align: middle;\n",
       "    }\n",
       "\n",
       "    .dataframe tbody tr th {\n",
       "        vertical-align: top;\n",
       "    }\n",
       "\n",
       "    .dataframe thead th {\n",
       "        text-align: right;\n",
       "    }\n",
       "</style>\n",
       "<table border=\"1\" class=\"dataframe\">\n",
       "  <thead>\n",
       "    <tr style=\"text-align: right;\">\n",
       "      <th></th>\n",
       "      <th>Country</th>\n",
       "      <th>Year</th>\n",
       "      <th>Area</th>\n",
       "      <th>Sex</th>\n",
       "      <th>Value</th>\n",
       "    </tr>\n",
       "  </thead>\n",
       "  <tbody>\n",
       "    <tr>\n",
       "      <th>431</th>\n",
       "      <td>Mexico</td>\n",
       "      <td>2015</td>\n",
       "      <td>Total</td>\n",
       "      <td>Both Sexes</td>\n",
       "      <td>2096274</td>\n",
       "    </tr>\n",
       "    <tr>\n",
       "      <th>432</th>\n",
       "      <td>Mexico</td>\n",
       "      <td>2015</td>\n",
       "      <td>Total</td>\n",
       "      <td>Male</td>\n",
       "      <td>1068348</td>\n",
       "    </tr>\n",
       "    <tr>\n",
       "      <th>433</th>\n",
       "      <td>Mexico</td>\n",
       "      <td>2015</td>\n",
       "      <td>Total</td>\n",
       "      <td>Female</td>\n",
       "      <td>1027913</td>\n",
       "    </tr>\n",
       "    <tr>\n",
       "      <th>434</th>\n",
       "      <td>Mexico</td>\n",
       "      <td>2015</td>\n",
       "      <td>Urban</td>\n",
       "      <td>Both Sexes</td>\n",
       "      <td>1540464</td>\n",
       "    </tr>\n",
       "    <tr>\n",
       "      <th>435</th>\n",
       "      <td>Mexico</td>\n",
       "      <td>2015</td>\n",
       "      <td>Urban</td>\n",
       "      <td>Male</td>\n",
       "      <td>785867</td>\n",
       "    </tr>\n",
       "    <tr>\n",
       "      <th>436</th>\n",
       "      <td>Mexico</td>\n",
       "      <td>2015</td>\n",
       "      <td>Urban</td>\n",
       "      <td>Female</td>\n",
       "      <td>754585</td>\n",
       "    </tr>\n",
       "    <tr>\n",
       "      <th>437</th>\n",
       "      <td>Mexico</td>\n",
       "      <td>2015</td>\n",
       "      <td>Rural</td>\n",
       "      <td>Both Sexes</td>\n",
       "      <td>442539</td>\n",
       "    </tr>\n",
       "    <tr>\n",
       "      <th>438</th>\n",
       "      <td>Mexico</td>\n",
       "      <td>2015</td>\n",
       "      <td>Rural</td>\n",
       "      <td>Male</td>\n",
       "      <td>225103</td>\n",
       "    </tr>\n",
       "    <tr>\n",
       "      <th>439</th>\n",
       "      <td>Mexico</td>\n",
       "      <td>2015</td>\n",
       "      <td>Rural</td>\n",
       "      <td>Female</td>\n",
       "      <td>217436</td>\n",
       "    </tr>\n",
       "  </tbody>\n",
       "</table>\n",
       "</div>"
      ],
      "text/plain": [
       "       Country  Year      Area            Sex    Value\n",
       "431   Mexico    2015   Total     Both Sexes    2096274\n",
       "432   Mexico    2015   Total           Male    1068348\n",
       "433   Mexico    2015   Total         Female    1027913\n",
       "434   Mexico    2015   Urban     Both Sexes    1540464\n",
       "435   Mexico    2015   Urban           Male     785867\n",
       "436   Mexico    2015   Urban         Female     754585\n",
       "437   Mexico    2015   Rural     Both Sexes     442539\n",
       "438   Mexico    2015   Rural           Male     225103\n",
       "439   Mexico    2015   Rural         Female     217436"
      ]
     },
     "execution_count": 9,
     "metadata": {},
     "output_type": "execute_result"
    }
   ],
   "source": [
    "data1_MX"
   ]
  },
  {
   "cell_type": "code",
   "execution_count": 10,
   "id": "16236a77-cc7c-4e13-990e-8a7c13e365ff",
   "metadata": {},
   "outputs": [],
   "source": [
    "data2=pd.read_csv(files[1],usecols=[0,1,2,3,6])\n",
    "data2_MX=data2[data2['Country']==' Mexico  ']"
   ]
  },
  {
   "cell_type": "code",
   "execution_count": 11,
   "id": "fd254d90-caac-4863-9664-3f52a1268637",
   "metadata": {},
   "outputs": [
    {
     "data": {
      "text/html": [
       "<div>\n",
       "<style scoped>\n",
       "    .dataframe tbody tr th:only-of-type {\n",
       "        vertical-align: middle;\n",
       "    }\n",
       "\n",
       "    .dataframe tbody tr th {\n",
       "        vertical-align: top;\n",
       "    }\n",
       "\n",
       "    .dataframe thead th {\n",
       "        text-align: right;\n",
       "    }\n",
       "</style>\n",
       "<table border=\"1\" class=\"dataframe\">\n",
       "  <thead>\n",
       "    <tr style=\"text-align: right;\">\n",
       "      <th></th>\n",
       "      <th>Country</th>\n",
       "      <th>Year</th>\n",
       "      <th>Area</th>\n",
       "      <th>Sex</th>\n",
       "      <th>Value</th>\n",
       "    </tr>\n",
       "  </thead>\n",
       "  <tbody>\n",
       "    <tr>\n",
       "      <th>419</th>\n",
       "      <td>Mexico</td>\n",
       "      <td>2016</td>\n",
       "      <td>Total</td>\n",
       "      <td>Both Sexes</td>\n",
       "      <td>2028358</td>\n",
       "    </tr>\n",
       "    <tr>\n",
       "      <th>420</th>\n",
       "      <td>Mexico</td>\n",
       "      <td>2016</td>\n",
       "      <td>Total</td>\n",
       "      <td>Male</td>\n",
       "      <td>1032107</td>\n",
       "    </tr>\n",
       "    <tr>\n",
       "      <th>421</th>\n",
       "      <td>Mexico</td>\n",
       "      <td>2016</td>\n",
       "      <td>Total</td>\n",
       "      <td>Female</td>\n",
       "      <td>996234</td>\n",
       "    </tr>\n",
       "    <tr>\n",
       "      <th>422</th>\n",
       "      <td>Mexico</td>\n",
       "      <td>2016</td>\n",
       "      <td>Urban</td>\n",
       "      <td>Both Sexes</td>\n",
       "      <td>1476247</td>\n",
       "    </tr>\n",
       "    <tr>\n",
       "      <th>423</th>\n",
       "      <td>Mexico</td>\n",
       "      <td>2016</td>\n",
       "      <td>Urban</td>\n",
       "      <td>Male</td>\n",
       "      <td>751277</td>\n",
       "    </tr>\n",
       "    <tr>\n",
       "      <th>424</th>\n",
       "      <td>Mexico</td>\n",
       "      <td>2016</td>\n",
       "      <td>Urban</td>\n",
       "      <td>Female</td>\n",
       "      <td>724957</td>\n",
       "    </tr>\n",
       "    <tr>\n",
       "      <th>425</th>\n",
       "      <td>Mexico</td>\n",
       "      <td>2016</td>\n",
       "      <td>Rural</td>\n",
       "      <td>Both Sexes</td>\n",
       "      <td>440219</td>\n",
       "    </tr>\n",
       "    <tr>\n",
       "      <th>426</th>\n",
       "      <td>Mexico</td>\n",
       "      <td>2016</td>\n",
       "      <td>Rural</td>\n",
       "      <td>Male</td>\n",
       "      <td>223909</td>\n",
       "    </tr>\n",
       "    <tr>\n",
       "      <th>427</th>\n",
       "      <td>Mexico</td>\n",
       "      <td>2016</td>\n",
       "      <td>Rural</td>\n",
       "      <td>Female</td>\n",
       "      <td>216307</td>\n",
       "    </tr>\n",
       "  </tbody>\n",
       "</table>\n",
       "</div>"
      ],
      "text/plain": [
       "       Country  Year      Area            Sex    Value\n",
       "419   Mexico    2016   Total     Both Sexes    2028358\n",
       "420   Mexico    2016   Total           Male    1032107\n",
       "421   Mexico    2016   Total         Female     996234\n",
       "422   Mexico    2016   Urban     Both Sexes    1476247\n",
       "423   Mexico    2016   Urban           Male     751277\n",
       "424   Mexico    2016   Urban         Female     724957\n",
       "425   Mexico    2016   Rural     Both Sexes     440219\n",
       "426   Mexico    2016   Rural           Male     223909\n",
       "427   Mexico    2016   Rural         Female     216307"
      ]
     },
     "execution_count": 11,
     "metadata": {},
     "output_type": "execute_result"
    }
   ],
   "source": [
    "data2_MX"
   ]
  },
  {
   "cell_type": "code",
   "execution_count": 12,
   "id": "32094871-ce35-4269-b599-fbc6720ef66e",
   "metadata": {},
   "outputs": [],
   "source": [
    "data3=pd.read_csv(files[2],usecols=[0,1,2,3,6])\n",
    "data3_MX=data3[data3['Country']==' Mexico  ']"
   ]
  },
  {
   "cell_type": "code",
   "execution_count": 13,
   "id": "366d1fc1-1de7-4681-b940-7cad110f49e7",
   "metadata": {},
   "outputs": [
    {
     "data": {
      "text/html": [
       "<div>\n",
       "<style scoped>\n",
       "    .dataframe tbody tr th:only-of-type {\n",
       "        vertical-align: middle;\n",
       "    }\n",
       "\n",
       "    .dataframe tbody tr th {\n",
       "        vertical-align: top;\n",
       "    }\n",
       "\n",
       "    .dataframe thead th {\n",
       "        text-align: right;\n",
       "    }\n",
       "</style>\n",
       "<table border=\"1\" class=\"dataframe\">\n",
       "  <thead>\n",
       "    <tr style=\"text-align: right;\">\n",
       "      <th></th>\n",
       "      <th>Country</th>\n",
       "      <th>Year</th>\n",
       "      <th>Area</th>\n",
       "      <th>Sex</th>\n",
       "      <th>Value</th>\n",
       "    </tr>\n",
       "  </thead>\n",
       "  <tbody>\n",
       "    <tr>\n",
       "      <th>417</th>\n",
       "      <td>Mexico</td>\n",
       "      <td>2017</td>\n",
       "      <td>Total</td>\n",
       "      <td>Both Sexes</td>\n",
       "      <td>2000591</td>\n",
       "    </tr>\n",
       "    <tr>\n",
       "      <th>418</th>\n",
       "      <td>Mexico</td>\n",
       "      <td>2017</td>\n",
       "      <td>Total</td>\n",
       "      <td>Male</td>\n",
       "      <td>1020094</td>\n",
       "    </tr>\n",
       "    <tr>\n",
       "      <th>419</th>\n",
       "      <td>Mexico</td>\n",
       "      <td>2017</td>\n",
       "      <td>Total</td>\n",
       "      <td>Female</td>\n",
       "      <td>980490</td>\n",
       "    </tr>\n",
       "    <tr>\n",
       "      <th>420</th>\n",
       "      <td>Mexico</td>\n",
       "      <td>2017</td>\n",
       "      <td>Urban</td>\n",
       "      <td>Both Sexes</td>\n",
       "      <td>1468199</td>\n",
       "    </tr>\n",
       "    <tr>\n",
       "      <th>421</th>\n",
       "      <td>Mexico</td>\n",
       "      <td>2017</td>\n",
       "      <td>Urban</td>\n",
       "      <td>Male</td>\n",
       "      <td>748919</td>\n",
       "    </tr>\n",
       "    <tr>\n",
       "      <th>422</th>\n",
       "      <td>Mexico</td>\n",
       "      <td>2017</td>\n",
       "      <td>Urban</td>\n",
       "      <td>Female</td>\n",
       "      <td>719277</td>\n",
       "    </tr>\n",
       "    <tr>\n",
       "      <th>423</th>\n",
       "      <td>Mexico</td>\n",
       "      <td>2017</td>\n",
       "      <td>Rural</td>\n",
       "      <td>Both Sexes</td>\n",
       "      <td>438619</td>\n",
       "    </tr>\n",
       "    <tr>\n",
       "      <th>424</th>\n",
       "      <td>Mexico</td>\n",
       "      <td>2017</td>\n",
       "      <td>Rural</td>\n",
       "      <td>Male</td>\n",
       "      <td>223362</td>\n",
       "    </tr>\n",
       "    <tr>\n",
       "      <th>425</th>\n",
       "      <td>Mexico</td>\n",
       "      <td>2017</td>\n",
       "      <td>Rural</td>\n",
       "      <td>Female</td>\n",
       "      <td>215256</td>\n",
       "    </tr>\n",
       "  </tbody>\n",
       "</table>\n",
       "</div>"
      ],
      "text/plain": [
       "       Country  Year      Area            Sex    Value\n",
       "417   Mexico    2017   Total     Both Sexes    2000591\n",
       "418   Mexico    2017   Total           Male    1020094\n",
       "419   Mexico    2017   Total         Female     980490\n",
       "420   Mexico    2017   Urban     Both Sexes    1468199\n",
       "421   Mexico    2017   Urban           Male     748919\n",
       "422   Mexico    2017   Urban         Female     719277\n",
       "423   Mexico    2017   Rural     Both Sexes     438619\n",
       "424   Mexico    2017   Rural           Male     223362\n",
       "425   Mexico    2017   Rural         Female     215256"
      ]
     },
     "execution_count": 13,
     "metadata": {},
     "output_type": "execute_result"
    }
   ],
   "source": [
    "data3_MX"
   ]
  },
  {
   "cell_type": "code",
   "execution_count": 14,
   "id": "a4969381-e270-45ce-871d-c079f7115e49",
   "metadata": {},
   "outputs": [],
   "source": [
    "data4=pd.read_csv(files[3],usecols=[0,1,2,3,6])\n",
    "data4_MX=data4[data4['Country']==' Mexico  ']"
   ]
  },
  {
   "cell_type": "code",
   "execution_count": 15,
   "id": "07574039-fc25-46e3-bbcb-1701bc78ef45",
   "metadata": {},
   "outputs": [
    {
     "data": {
      "text/html": [
       "<div>\n",
       "<style scoped>\n",
       "    .dataframe tbody tr th:only-of-type {\n",
       "        vertical-align: middle;\n",
       "    }\n",
       "\n",
       "    .dataframe tbody tr th {\n",
       "        vertical-align: top;\n",
       "    }\n",
       "\n",
       "    .dataframe thead th {\n",
       "        text-align: right;\n",
       "    }\n",
       "</style>\n",
       "<table border=\"1\" class=\"dataframe\">\n",
       "  <thead>\n",
       "    <tr style=\"text-align: right;\">\n",
       "      <th></th>\n",
       "      <th>Country</th>\n",
       "      <th>Year</th>\n",
       "      <th>Area</th>\n",
       "      <th>Sex</th>\n",
       "      <th>Value</th>\n",
       "    </tr>\n",
       "  </thead>\n",
       "  <tbody>\n",
       "    <tr>\n",
       "      <th>352</th>\n",
       "      <td>Mexico</td>\n",
       "      <td>2018</td>\n",
       "      <td>Total</td>\n",
       "      <td>Both Sexes</td>\n",
       "      <td>2162535</td>\n",
       "    </tr>\n",
       "  </tbody>\n",
       "</table>\n",
       "</div>"
      ],
      "text/plain": [
       "       Country  Year      Area            Sex      Value\n",
       "352   Mexico      2018   Total     Both Sexes    2162535"
      ]
     },
     "execution_count": 15,
     "metadata": {},
     "output_type": "execute_result"
    }
   ],
   "source": [
    "data4_MX"
   ]
  },
  {
   "cell_type": "code",
   "execution_count": 16,
   "id": "8ca5d186-ca88-49fa-a4d3-6ee1f79a2cdf",
   "metadata": {},
   "outputs": [],
   "source": [
    "data5=pd.read_csv(files[4],usecols=[0,1,2,3,6])\n",
    "data5_MX=data5[data5['Country']==' Mexico  ']"
   ]
  },
  {
   "cell_type": "code",
   "execution_count": 17,
   "id": "0b61c693-bba3-4eb7-9af3-b866ef1fb405",
   "metadata": {},
   "outputs": [
    {
     "data": {
      "text/html": [
       "<div>\n",
       "<style scoped>\n",
       "    .dataframe tbody tr th:only-of-type {\n",
       "        vertical-align: middle;\n",
       "    }\n",
       "\n",
       "    .dataframe tbody tr th {\n",
       "        vertical-align: top;\n",
       "    }\n",
       "\n",
       "    .dataframe thead th {\n",
       "        text-align: right;\n",
       "    }\n",
       "</style>\n",
       "<table border=\"1\" class=\"dataframe\">\n",
       "  <thead>\n",
       "    <tr style=\"text-align: right;\">\n",
       "      <th></th>\n",
       "      <th>Country</th>\n",
       "      <th>Year</th>\n",
       "      <th>Area</th>\n",
       "      <th>Sex</th>\n",
       "      <th>Value</th>\n",
       "    </tr>\n",
       "  </thead>\n",
       "  <tbody>\n",
       "    <tr>\n",
       "      <th>97</th>\n",
       "      <td>Mexico</td>\n",
       "      <td>2019</td>\n",
       "      <td>Total</td>\n",
       "      <td>Both Sexes</td>\n",
       "      <td>2092214</td>\n",
       "    </tr>\n",
       "  </tbody>\n",
       "</table>\n",
       "</div>"
      ],
      "text/plain": [
       "      Country  Year      Area            Sex      Value\n",
       "97   Mexico      2019   Total     Both Sexes    2092214"
      ]
     },
     "execution_count": 17,
     "metadata": {},
     "output_type": "execute_result"
    }
   ],
   "source": [
    "data5_MX"
   ]
  },
  {
   "cell_type": "code",
   "execution_count": 18,
   "id": "7ab7de7c-7dbb-4a74-8b1e-ed974dde7a3d",
   "metadata": {},
   "outputs": [],
   "source": [
    "import glob\n",
    "files_2=glob.glob(\"./archivos_2//*.txt\")"
   ]
  },
  {
   "cell_type": "code",
   "execution_count": 19,
   "id": "a8bd7f11-445d-4d20-bd6d-2990cea5f650",
   "metadata": {},
   "outputs": [
    {
     "data": {
      "text/plain": [
       "['./archivos_2\\\\2015 Urban.txt',\n",
       " './archivos_2\\\\2016 Urban.txt',\n",
       " './archivos_2\\\\2017 Urban.txt']"
      ]
     },
     "execution_count": 19,
     "metadata": {},
     "output_type": "execute_result"
    }
   ],
   "source": [
    "files_2"
   ]
  },
  {
   "cell_type": "code",
   "execution_count": 20,
   "id": "7002e30a-3b28-44f4-8707-f9702abb7af3",
   "metadata": {},
   "outputs": [
    {
     "data": {
      "text/html": [
       "<div>\n",
       "<style scoped>\n",
       "    .dataframe tbody tr th:only-of-type {\n",
       "        vertical-align: middle;\n",
       "    }\n",
       "\n",
       "    .dataframe tbody tr th {\n",
       "        vertical-align: top;\n",
       "    }\n",
       "\n",
       "    .dataframe thead th {\n",
       "        text-align: right;\n",
       "    }\n",
       "</style>\n",
       "<table border=\"1\" class=\"dataframe\">\n",
       "  <thead>\n",
       "    <tr style=\"text-align: right;\">\n",
       "      <th></th>\n",
       "      <th>Country</th>\n",
       "      <th>Year</th>\n",
       "      <th>Area</th>\n",
       "      <th>Value</th>\n",
       "    </tr>\n",
       "  </thead>\n",
       "  <tbody>\n",
       "    <tr>\n",
       "      <th>0</th>\n",
       "      <td>Mexico</td>\n",
       "      <td>2015</td>\n",
       "      <td>Urban</td>\n",
       "      <td>1540464</td>\n",
       "    </tr>\n",
       "  </tbody>\n",
       "</table>\n",
       "</div>"
      ],
      "text/plain": [
       "  Country  Year   Area    Value\n",
       "0  Mexico  2015  Urban  1540464"
      ]
     },
     "execution_count": 20,
     "metadata": {},
     "output_type": "execute_result"
    }
   ],
   "source": [
    "archivo=pd.read_csv(files_2[0],usecols=[0,1,2,3])\n",
    "archivo"
   ]
  },
  {
   "cell_type": "code",
   "execution_count": 21,
   "id": "f89cd4b4-ef72-4753-baf1-ebcb36b5eead",
   "metadata": {},
   "outputs": [
    {
     "data": {
      "text/html": [
       "<div>\n",
       "<style scoped>\n",
       "    .dataframe tbody tr th:only-of-type {\n",
       "        vertical-align: middle;\n",
       "    }\n",
       "\n",
       "    .dataframe tbody tr th {\n",
       "        vertical-align: top;\n",
       "    }\n",
       "\n",
       "    .dataframe thead th {\n",
       "        text-align: right;\n",
       "    }\n",
       "</style>\n",
       "<table border=\"1\" class=\"dataframe\">\n",
       "  <thead>\n",
       "    <tr style=\"text-align: right;\">\n",
       "      <th></th>\n",
       "      <th>Country</th>\n",
       "      <th>Year</th>\n",
       "      <th>Area</th>\n",
       "      <th>Value</th>\n",
       "    </tr>\n",
       "  </thead>\n",
       "  <tbody>\n",
       "    <tr>\n",
       "      <th>0</th>\n",
       "      <td>Mexico</td>\n",
       "      <td>2016</td>\n",
       "      <td>Urban</td>\n",
       "      <td>1476247</td>\n",
       "    </tr>\n",
       "  </tbody>\n",
       "</table>\n",
       "</div>"
      ],
      "text/plain": [
       "  Country  Year   Area    Value\n",
       "0  Mexico  2016  Urban  1476247"
      ]
     },
     "execution_count": 21,
     "metadata": {},
     "output_type": "execute_result"
    }
   ],
   "source": [
    "archivo2=pd.read_csv(files_2[1],usecols=[0,1,2,3])\n",
    "archivo2"
   ]
  },
  {
   "cell_type": "code",
   "execution_count": 22,
   "id": "b9becf8c-3fd2-4b1a-8bb3-79f3269a319d",
   "metadata": {},
   "outputs": [
    {
     "data": {
      "text/html": [
       "<div>\n",
       "<style scoped>\n",
       "    .dataframe tbody tr th:only-of-type {\n",
       "        vertical-align: middle;\n",
       "    }\n",
       "\n",
       "    .dataframe tbody tr th {\n",
       "        vertical-align: top;\n",
       "    }\n",
       "\n",
       "    .dataframe thead th {\n",
       "        text-align: right;\n",
       "    }\n",
       "</style>\n",
       "<table border=\"1\" class=\"dataframe\">\n",
       "  <thead>\n",
       "    <tr style=\"text-align: right;\">\n",
       "      <th></th>\n",
       "      <th>Country</th>\n",
       "      <th>Year</th>\n",
       "      <th>Area</th>\n",
       "      <th>Value</th>\n",
       "    </tr>\n",
       "  </thead>\n",
       "  <tbody>\n",
       "    <tr>\n",
       "      <th>0</th>\n",
       "      <td>Mexico</td>\n",
       "      <td>2017</td>\n",
       "      <td>Urban</td>\n",
       "      <td>1468199</td>\n",
       "    </tr>\n",
       "  </tbody>\n",
       "</table>\n",
       "</div>"
      ],
      "text/plain": [
       "  Country  Year   Area    Value\n",
       "0  Mexico  2017  Urban  1468199"
      ]
     },
     "execution_count": 22,
     "metadata": {},
     "output_type": "execute_result"
    }
   ],
   "source": [
    "archivo3=pd.read_csv(files_2[2],usecols=[0,1,2,3])\n",
    "archivo3"
   ]
  },
  {
   "cell_type": "code",
   "execution_count": 23,
   "id": "b05caddd-1ed4-4029-b76c-13bdc5ce2871",
   "metadata": {},
   "outputs": [
    {
     "data": {
      "text/html": [
       "<h2>Total de natalicios en zonas urbanas</h2>"
      ],
      "text/plain": [
       "<IPython.core.display.HTML object>"
      ]
     },
     "metadata": {},
     "output_type": "display_data"
    },
    {
     "data": {
      "text/html": [
       "<div>\n",
       "<style scoped>\n",
       "    .dataframe tbody tr th:only-of-type {\n",
       "        vertical-align: middle;\n",
       "    }\n",
       "\n",
       "    .dataframe tbody tr th {\n",
       "        vertical-align: top;\n",
       "    }\n",
       "\n",
       "    .dataframe thead th {\n",
       "        text-align: right;\n",
       "    }\n",
       "</style>\n",
       "<table border=\"1\" class=\"dataframe\">\n",
       "  <thead>\n",
       "    <tr style=\"text-align: right;\">\n",
       "      <th></th>\n",
       "      <th>Country</th>\n",
       "      <th>Year</th>\n",
       "      <th>Area</th>\n",
       "      <th>Value</th>\n",
       "    </tr>\n",
       "  </thead>\n",
       "  <tbody>\n",
       "    <tr>\n",
       "      <th>0</th>\n",
       "      <td>Mexico</td>\n",
       "      <td>2015</td>\n",
       "      <td>Urban</td>\n",
       "      <td>1540464</td>\n",
       "    </tr>\n",
       "    <tr>\n",
       "      <th>0</th>\n",
       "      <td>Mexico</td>\n",
       "      <td>2016</td>\n",
       "      <td>Urban</td>\n",
       "      <td>1476247</td>\n",
       "    </tr>\n",
       "    <tr>\n",
       "      <th>0</th>\n",
       "      <td>Mexico</td>\n",
       "      <td>2017</td>\n",
       "      <td>Urban</td>\n",
       "      <td>1468199</td>\n",
       "    </tr>\n",
       "  </tbody>\n",
       "</table>\n",
       "</div>"
      ]
     },
     "metadata": {},
     "output_type": "display_data"
    }
   ],
   "source": [
    "total_urban=pd.concat([archivo,archivo2,archivo3], axis=0)\n",
    "from IPython.display import HTML, display_html, display\n",
    "display(HTML('<h2>Total de natalicios en zonas urbanas</h2>'))\n",
    "display_html(total_urban)"
   ]
  },
  {
   "cell_type": "code",
   "execution_count": 77,
   "id": "e4acae1c-1fa5-45c5-b32f-bc3b103acf37",
   "metadata": {},
   "outputs": [
    {
     "data": {
      "text/html": [
       "<h2>Total de natalicios en zonas urbanas</h2>"
      ],
      "text/plain": [
       "<IPython.core.display.HTML object>"
      ]
     },
     "metadata": {},
     "output_type": "display_data"
    },
    {
     "data": {
      "text/plain": [
       "<Figure size 2160x3600 with 0 Axes>"
      ]
     },
     "metadata": {},
     "output_type": "display_data"
    },
    {
     "data": {
      "image/png": "[encoded data removed]",
      "text/plain": [
       "<Figure size 360x360 with 1 Axes>"
      ]
     },
     "metadata": {
      "needs_background": "light"
     },
     "output_type": "display_data"
    }
   ],
   "source": [
    "plt.figure(figsize=(30,50))\n",
    "g=sns.lmplot(x=('Year'),y=('Value'),data=total_urban,palette='Set1')\n",
    "from IPython.display import HTML, display_html, display\n",
    "display(HTML('<h2>Total de natalicios en zonas urbanas</h2>'))\n",
    "display_html(g)"
   ]
  },
  {
   "cell_type": "code",
   "execution_count": 25,
   "id": "35ed5ec7-a036-401f-b79b-65f92fc3e322",
   "metadata": {},
   "outputs": [
    {
     "name": "stdout",
     "output_type": "stream",
     "text": [
      "[[2015]\n",
      " [2016]\n",
      " [2017]]\n",
      "LinearRegression()\n",
      "[-36132.5]\n",
      "y=-36132.499999999985*x+74338089.99999997\n",
      "[1531102.5 1494970.  1458837.5]\n"
     ]
    },
    {
     "name": "stderr",
     "output_type": "stream",
     "text": [
      "<ipython-input-25-7bcdcab7a4e8>:9: FutureWarning: Support for multi-dimensional indexing (e.g. `obj[:, None]`) is deprecated and will be removed in a future version.  Convert to a numpy array before indexing instead.\n",
      "  X=x[:,np.newaxis]\n"
     ]
    },
    {
     "data": {
      "text/plain": [
       "Text(0, 0.5, 'Valor')"
      ]
     },
     "execution_count": 25,
     "metadata": {},
     "output_type": "execute_result"
    },
    {
     "data": {
      "image/png": "[encoded data removed]",
      "text/plain": [
       "<Figure size 432x288 with 1 Axes>"
      ]
     },
     "metadata": {
      "needs_background": "light"
     },
     "output_type": "display_data"
    }
   ],
   "source": [
    "##Podremos predecir el número de natalicios en zonas urbanas para el año 2018 y 2019?\n",
    "from sklearn import linear_model\n",
    "from sklearn.metrics import r2_score\n",
    "regr=linear_model.LinearRegression()\n",
    "\n",
    "x=total_urban['Year']\n",
    "y=total_urban['Value']\n",
    "\n",
    "X=x[:,np.newaxis]\n",
    "print(X)\n",
    "print(regr.fit(X,y))\n",
    "print(regr.coef_)\n",
    "m=regr.coef_[0]\n",
    "b=regr.intercept_\n",
    "y_p=m*X+b\n",
    "print('y={0}*x+{1}'.format(m,b))\n",
    "print(regr.predict(X)[0:3])\n",
    "plt.scatter(x,y,color='blue')\n",
    "plt.plot(x,y_p,color='red')\n",
    "plt.title('Regresion lineal zonas urbanas', fontsize=16)\n",
    "plt.xlabel('Años',fontsize=13)\n",
    "plt.ylabel('Valor',fontsize=13)"
   ]
  },
  {
   "cell_type": "code",
   "execution_count": 26,
   "id": "9db83426-5fe5-47b0-865e-8ab3b6819d90",
   "metadata": {},
   "outputs": [
    {
     "data": {
      "text/plain": [
       "1422705.0"
      ]
     },
     "execution_count": 26,
     "metadata": {},
     "output_type": "execute_result"
    }
   ],
   "source": [
    "##Predicción 2018 y 2019\n",
    "prediccionUrban_2018= -36132.499999999985*(2018)+74338089.99999997\n",
    "prediccionUrban_2018"
   ]
  },
  {
   "cell_type": "code",
   "execution_count": 27,
   "id": "c080e639-80df-4969-a8e1-30a43657dfee",
   "metadata": {},
   "outputs": [
    {
     "data": {
      "text/plain": [
       "1386572.5"
      ]
     },
     "execution_count": 27,
     "metadata": {},
     "output_type": "execute_result"
    }
   ],
   "source": [
    "prediccionUrban_2019=-36132.499999999985*(2019)+74338089.99999997\n",
    "prediccionUrban_2019"
   ]
  },
  {
   "cell_type": "code",
   "execution_count": 28,
   "id": "649a27cc-2c37-47db-9fce-0a9ecff28ec0",
   "metadata": {},
   "outputs": [],
   "source": [
    "import glob\n",
    "files_3=glob.glob(\"./archivos_3//*.txt\")"
   ]
  },
  {
   "cell_type": "code",
   "execution_count": 29,
   "id": "79329746-2fdf-47a9-9fc8-cbbf85ae9125",
   "metadata": {},
   "outputs": [
    {
     "data": {
      "text/plain": [
       "['./archivos_3\\\\2015 Rural.txt',\n",
       " './archivos_3\\\\2016 Rural.txt',\n",
       " './archivos_3\\\\2017 Rural.txt']"
      ]
     },
     "execution_count": 29,
     "metadata": {},
     "output_type": "execute_result"
    }
   ],
   "source": [
    "files_3"
   ]
  },
  {
   "cell_type": "code",
   "execution_count": 30,
   "id": "bef114a6-4a35-43d3-b974-343f6f3bd91e",
   "metadata": {},
   "outputs": [
    {
     "data": {
      "text/html": [
       "<div>\n",
       "<style scoped>\n",
       "    .dataframe tbody tr th:only-of-type {\n",
       "        vertical-align: middle;\n",
       "    }\n",
       "\n",
       "    .dataframe tbody tr th {\n",
       "        vertical-align: top;\n",
       "    }\n",
       "\n",
       "    .dataframe thead th {\n",
       "        text-align: right;\n",
       "    }\n",
       "</style>\n",
       "<table border=\"1\" class=\"dataframe\">\n",
       "  <thead>\n",
       "    <tr style=\"text-align: right;\">\n",
       "      <th></th>\n",
       "      <th>Country</th>\n",
       "      <th>Year</th>\n",
       "      <th>Area</th>\n",
       "      <th>Value</th>\n",
       "    </tr>\n",
       "  </thead>\n",
       "  <tbody>\n",
       "    <tr>\n",
       "      <th>0</th>\n",
       "      <td>Mexico</td>\n",
       "      <td>2015</td>\n",
       "      <td>Rural</td>\n",
       "      <td>442539</td>\n",
       "    </tr>\n",
       "  </tbody>\n",
       "</table>\n",
       "</div>"
      ],
      "text/plain": [
       "  Country  Year   Area   Value\n",
       "0  Mexico  2015  Rural  442539"
      ]
     },
     "execution_count": 30,
     "metadata": {},
     "output_type": "execute_result"
    }
   ],
   "source": [
    "archivo4=pd.read_csv(files_3[0],usecols=[0,1,2,3])\n",
    "archivo4"
   ]
  },
  {
   "cell_type": "code",
   "execution_count": 31,
   "id": "495b1d22-57a0-4a1b-b971-107d1098fe89",
   "metadata": {},
   "outputs": [
    {
     "data": {
      "text/html": [
       "<div>\n",
       "<style scoped>\n",
       "    .dataframe tbody tr th:only-of-type {\n",
       "        vertical-align: middle;\n",
       "    }\n",
       "\n",
       "    .dataframe tbody tr th {\n",
       "        vertical-align: top;\n",
       "    }\n",
       "\n",
       "    .dataframe thead th {\n",
       "        text-align: right;\n",
       "    }\n",
       "</style>\n",
       "<table border=\"1\" class=\"dataframe\">\n",
       "  <thead>\n",
       "    <tr style=\"text-align: right;\">\n",
       "      <th></th>\n",
       "      <th>Country</th>\n",
       "      <th>Year</th>\n",
       "      <th>Area</th>\n",
       "      <th>Value</th>\n",
       "    </tr>\n",
       "  </thead>\n",
       "  <tbody>\n",
       "    <tr>\n",
       "      <th>0</th>\n",
       "      <td>Mexico</td>\n",
       "      <td>2016</td>\n",
       "      <td>Rural</td>\n",
       "      <td>440219</td>\n",
       "    </tr>\n",
       "  </tbody>\n",
       "</table>\n",
       "</div>"
      ],
      "text/plain": [
       "  Country  Year   Area   Value\n",
       "0  Mexico  2016  Rural  440219"
      ]
     },
     "execution_count": 31,
     "metadata": {},
     "output_type": "execute_result"
    }
   ],
   "source": [
    "archivo5=pd.read_csv(files_3[1],usecols=[0,1,2,3])\n",
    "archivo5"
   ]
  },
  {
   "cell_type": "code",
   "execution_count": 32,
   "id": "0db2c130-19ad-4976-8b42-4d0149a0ce32",
   "metadata": {},
   "outputs": [
    {
     "data": {
      "text/html": [
       "<div>\n",
       "<style scoped>\n",
       "    .dataframe tbody tr th:only-of-type {\n",
       "        vertical-align: middle;\n",
       "    }\n",
       "\n",
       "    .dataframe tbody tr th {\n",
       "        vertical-align: top;\n",
       "    }\n",
       "\n",
       "    .dataframe thead th {\n",
       "        text-align: right;\n",
       "    }\n",
       "</style>\n",
       "<table border=\"1\" class=\"dataframe\">\n",
       "  <thead>\n",
       "    <tr style=\"text-align: right;\">\n",
       "      <th></th>\n",
       "      <th>Country</th>\n",
       "      <th>Year</th>\n",
       "      <th>Area</th>\n",
       "      <th>Value</th>\n",
       "    </tr>\n",
       "  </thead>\n",
       "  <tbody>\n",
       "    <tr>\n",
       "      <th>0</th>\n",
       "      <td>Mexico</td>\n",
       "      <td>2017</td>\n",
       "      <td>Rural</td>\n",
       "      <td>438619</td>\n",
       "    </tr>\n",
       "  </tbody>\n",
       "</table>\n",
       "</div>"
      ],
      "text/plain": [
       "  Country  Year   Area   Value\n",
       "0  Mexico  2017  Rural  438619"
      ]
     },
     "execution_count": 32,
     "metadata": {},
     "output_type": "execute_result"
    }
   ],
   "source": [
    "archivo6=pd.read_csv(files_3[2],usecols=[0,1,2,3])\n",
    "archivo6"
   ]
  },
  {
   "cell_type": "code",
   "execution_count": 33,
   "id": "b0ee3a16-a0cf-4874-a2db-dc7c3802f750",
   "metadata": {},
   "outputs": [
    {
     "data": {
      "text/html": [
       "<h2>Total de natalicios en zonas rurales</h2>"
      ],
      "text/plain": [
       "<IPython.core.display.HTML object>"
      ]
     },
     "metadata": {},
     "output_type": "display_data"
    },
    {
     "data": {
      "text/html": [
       "<div>\n",
       "<style scoped>\n",
       "    .dataframe tbody tr th:only-of-type {\n",
       "        vertical-align: middle;\n",
       "    }\n",
       "\n",
       "    .dataframe tbody tr th {\n",
       "        vertical-align: top;\n",
       "    }\n",
       "\n",
       "    .dataframe thead th {\n",
       "        text-align: right;\n",
       "    }\n",
       "</style>\n",
       "<table border=\"1\" class=\"dataframe\">\n",
       "  <thead>\n",
       "    <tr style=\"text-align: right;\">\n",
       "      <th></th>\n",
       "      <th>Country</th>\n",
       "      <th>Year</th>\n",
       "      <th>Area</th>\n",
       "      <th>Value</th>\n",
       "    </tr>\n",
       "  </thead>\n",
       "  <tbody>\n",
       "    <tr>\n",
       "      <th>0</th>\n",
       "      <td>Mexico</td>\n",
       "      <td>2015</td>\n",
       "      <td>Rural</td>\n",
       "      <td>442539</td>\n",
       "    </tr>\n",
       "    <tr>\n",
       "      <th>0</th>\n",
       "      <td>Mexico</td>\n",
       "      <td>2016</td>\n",
       "      <td>Rural</td>\n",
       "      <td>440219</td>\n",
       "    </tr>\n",
       "    <tr>\n",
       "      <th>0</th>\n",
       "      <td>Mexico</td>\n",
       "      <td>2017</td>\n",
       "      <td>Rural</td>\n",
       "      <td>438619</td>\n",
       "    </tr>\n",
       "  </tbody>\n",
       "</table>\n",
       "</div>"
      ]
     },
     "metadata": {},
     "output_type": "display_data"
    }
   ],
   "source": [
    "total_rural=pd.concat([archivo4,archivo5,archivo6], axis=0)\n",
    "from IPython.display import HTML, display_html, display\n",
    "display(HTML('<h2>Total de natalicios en zonas rurales</h2>'))\n",
    "display_html(total_rural)"
   ]
  },
  {
   "cell_type": "code",
   "execution_count": 34,
   "id": "b0c9463c-291c-4829-9df7-926b69e25448",
   "metadata": {},
   "outputs": [
    {
     "data": {
      "text/html": [
       "<h2>Total de natalicios en zonas rurales</h2>"
      ],
      "text/plain": [
       "<IPython.core.display.HTML object>"
      ]
     },
     "metadata": {},
     "output_type": "display_data"
    },
    {
     "data": {
      "image/png": "[encoded data removed]",
      "text/plain": [
       "<Figure size 360x360 with 1 Axes>"
      ]
     },
     "metadata": {
      "needs_background": "light"
     },
     "output_type": "display_data"
    }
   ],
   "source": [
    "g=sns.lmplot(x=('Year'),y=('Value'),data=total_rural,palette='Set1')\n",
    "from IPython.display import HTML, display_html, display\n",
    "display(HTML('<h2>Total de natalicios en zonas rurales</h2>'))\n",
    "display_html(g)"
   ]
  },
  {
   "cell_type": "code",
   "execution_count": 35,
   "id": "ffb2a555-52ee-45b2-a304-380c5658552e",
   "metadata": {},
   "outputs": [
    {
     "name": "stdout",
     "output_type": "stream",
     "text": [
      "[[2015]\n",
      " [2016]\n",
      " [2017]]\n",
      "LinearRegression()\n",
      "[-1960.]\n",
      "y=-1959.9999999999993*x+4391818.999999998\n",
      "[442419. 440459. 438499.]\n"
     ]
    },
    {
     "name": "stderr",
     "output_type": "stream",
     "text": [
      "<ipython-input-35-9d2882bbf6a2>:9: FutureWarning: Support for multi-dimensional indexing (e.g. `obj[:, None]`) is deprecated and will be removed in a future version.  Convert to a numpy array before indexing instead.\n",
      "  X=x[:,np.newaxis]\n"
     ]
    },
    {
     "data": {
      "text/plain": [
       "Text(0, 0.5, 'Valor')"
      ]
     },
     "execution_count": 35,
     "metadata": {},
     "output_type": "execute_result"
    },
    {
     "data": {
      "image/png": "[encoded data removed]",
      "text/plain": [
       "<Figure size 432x288 with 1 Axes>"
      ]
     },
     "metadata": {
      "needs_background": "light"
     },
     "output_type": "display_data"
    }
   ],
   "source": [
    "##Podremos predecir el número de natalicios en zonas rurales para el año 2018 y 2019?\n",
    "from sklearn import linear_model\n",
    "from sklearn.metrics import r2_score\n",
    "regr=linear_model.LinearRegression()\n",
    "\n",
    "x=total_rural['Year']\n",
    "y=total_rural['Value']\n",
    "\n",
    "X=x[:,np.newaxis]\n",
    "print(X)\n",
    "print(regr.fit(X,y))\n",
    "print(regr.coef_)\n",
    "m=regr.coef_[0]\n",
    "b=regr.intercept_\n",
    "y_p=m*X+b\n",
    "print('y={0}*x+{1}'.format(m,b))\n",
    "print(regr.predict(X)[0:3])\n",
    "plt.scatter(x,y,color='blue')\n",
    "plt.plot(x,y_p,color='red')\n",
    "plt.title('Regresion lineal zonas rurales', fontsize=16)\n",
    "plt.xlabel('Años',fontsize=13)\n",
    "plt.ylabel('Valor',fontsize=13)"
   ]
  },
  {
   "cell_type": "code",
   "execution_count": 36,
   "id": "b45925ea-a1ab-4eb0-8acc-2212a86dbf81",
   "metadata": {},
   "outputs": [
    {
     "data": {
      "text/plain": [
       "436538.99999999953"
      ]
     },
     "execution_count": 36,
     "metadata": {},
     "output_type": "execute_result"
    }
   ],
   "source": [
    "##Predicción 2018 y 2019\n",
    "prediccionRural_2018= -1959.9999999999993*(2018)+4391818.999999998\n",
    "prediccionRural_2018"
   ]
  },
  {
   "cell_type": "code",
   "execution_count": 37,
   "id": "07e11028-8547-4782-b580-841dae607070",
   "metadata": {},
   "outputs": [
    {
     "data": {
      "text/plain": [
       "434578.99999999953"
      ]
     },
     "execution_count": 37,
     "metadata": {},
     "output_type": "execute_result"
    }
   ],
   "source": [
    "prediccionRural_2019= -1959.9999999999993*(2019)+4391818.999999998\n",
    "prediccionRural_2019"
   ]
  },
  {
   "cell_type": "code",
   "execution_count": 38,
   "id": "dc7af776-f7a8-4060-a25a-aa003068be04",
   "metadata": {},
   "outputs": [
    {
     "data": {
      "text/plain": [
       "1859243.9999999995"
      ]
     },
     "execution_count": 38,
     "metadata": {},
     "output_type": "execute_result"
    }
   ],
   "source": [
    "##Suma entre las predicciones de lo rural y urbano\n",
    "total_2018= prediccionUrban_2018+prediccionRural_2018\n",
    "total_2018"
   ]
  },
  {
   "cell_type": "code",
   "execution_count": 39,
   "id": "452d9616-730e-4ffb-9411-50de031cce72",
   "metadata": {},
   "outputs": [
    {
     "data": {
      "text/plain": [
       "1821151.4999999995"
      ]
     },
     "execution_count": 39,
     "metadata": {},
     "output_type": "execute_result"
    }
   ],
   "source": [
    "total_2019=prediccionUrban_2019+prediccionRural_2019\n",
    "total_2019"
   ]
  },
  {
   "cell_type": "code",
   "execution_count": 40,
   "id": "7c599be9-bfae-4a17-8946-67ba0fc87474",
   "metadata": {},
   "outputs": [],
   "source": [
    "##Comparación de los totales de los archivos\n",
    "import glob\n",
    "files_4=glob.glob(\"./archivos_4//*.txt\")"
   ]
  },
  {
   "cell_type": "code",
   "execution_count": 41,
   "id": "b7cc2cef-62bd-4a3a-b8bb-d21e9d033e63",
   "metadata": {},
   "outputs": [
    {
     "data": {
      "text/plain": [
       "['./archivos_4\\\\2018 Total.txt', './archivos_4\\\\2019 Total.txt']"
      ]
     },
     "execution_count": 41,
     "metadata": {},
     "output_type": "execute_result"
    }
   ],
   "source": [
    "files_4"
   ]
  },
  {
   "cell_type": "code",
   "execution_count": 42,
   "id": "a4fc1f53-0308-4aa0-850d-17a52585fa86",
   "metadata": {},
   "outputs": [
    {
     "data": {
      "text/html": [
       "<div>\n",
       "<style scoped>\n",
       "    .dataframe tbody tr th:only-of-type {\n",
       "        vertical-align: middle;\n",
       "    }\n",
       "\n",
       "    .dataframe tbody tr th {\n",
       "        vertical-align: top;\n",
       "    }\n",
       "\n",
       "    .dataframe thead th {\n",
       "        text-align: right;\n",
       "    }\n",
       "</style>\n",
       "<table border=\"1\" class=\"dataframe\">\n",
       "  <thead>\n",
       "    <tr style=\"text-align: right;\">\n",
       "      <th></th>\n",
       "      <th>Country</th>\n",
       "      <th>Year</th>\n",
       "      <th>Area</th>\n",
       "      <th>Value</th>\n",
       "    </tr>\n",
       "  </thead>\n",
       "  <tbody>\n",
       "    <tr>\n",
       "      <th>0</th>\n",
       "      <td>Mexico</td>\n",
       "      <td>2018</td>\n",
       "      <td>Total</td>\n",
       "      <td>2162535</td>\n",
       "    </tr>\n",
       "  </tbody>\n",
       "</table>\n",
       "</div>"
      ],
      "text/plain": [
       "  Country  Year   Area    Value\n",
       "0  Mexico  2018  Total  2162535"
      ]
     },
     "execution_count": 42,
     "metadata": {},
     "output_type": "execute_result"
    }
   ],
   "source": [
    "archivo7=pd.read_csv(files_4[0],usecols=[0,1,2,3])\n",
    "archivo7"
   ]
  },
  {
   "cell_type": "code",
   "execution_count": 43,
   "id": "664f17ee-f427-4cda-86d8-8328543232c2",
   "metadata": {},
   "outputs": [
    {
     "data": {
      "text/html": [
       "<div>\n",
       "<style scoped>\n",
       "    .dataframe tbody tr th:only-of-type {\n",
       "        vertical-align: middle;\n",
       "    }\n",
       "\n",
       "    .dataframe tbody tr th {\n",
       "        vertical-align: top;\n",
       "    }\n",
       "\n",
       "    .dataframe thead th {\n",
       "        text-align: right;\n",
       "    }\n",
       "</style>\n",
       "<table border=\"1\" class=\"dataframe\">\n",
       "  <thead>\n",
       "    <tr style=\"text-align: right;\">\n",
       "      <th></th>\n",
       "      <th>Country</th>\n",
       "      <th>Year</th>\n",
       "      <th>Area</th>\n",
       "      <th>Value</th>\n",
       "    </tr>\n",
       "  </thead>\n",
       "  <tbody>\n",
       "    <tr>\n",
       "      <th>0</th>\n",
       "      <td>Mexico</td>\n",
       "      <td>2019</td>\n",
       "      <td>Total</td>\n",
       "      <td>2092214</td>\n",
       "    </tr>\n",
       "  </tbody>\n",
       "</table>\n",
       "</div>"
      ],
      "text/plain": [
       "  Country  Year   Area    Value\n",
       "0  Mexico  2019  Total  2092214"
      ]
     },
     "execution_count": 43,
     "metadata": {},
     "output_type": "execute_result"
    }
   ],
   "source": [
    "archivo8=pd.read_csv(files_4[1],usecols=[0,1,2,3])\n",
    "archivo8"
   ]
  },
  {
   "cell_type": "code",
   "execution_count": 44,
   "id": "72260cf4-b539-4a76-a99a-1b9c28df0ec8",
   "metadata": {},
   "outputs": [
    {
     "name": "stdout",
     "output_type": "stream",
     "text": [
      "  Country  Year   Area      Value\n",
      "0  Mexico  2018  Rural  436538.99\n"
     ]
    }
   ],
   "source": [
    "##DataFrame Urban y Rural 2018/2019\n",
    "rural_2018={'Country':['Mexico'],'Year':['2018'],'Area':['Rural'],'Value':['436538.99']}\n",
    "rural2018=pd.DataFrame(rural_2018)\n",
    "print(rural2018)"
   ]
  },
  {
   "cell_type": "code",
   "execution_count": 45,
   "id": "29b2554f-5895-40c1-bf42-7ce4f77f6a4b",
   "metadata": {},
   "outputs": [
    {
     "name": "stdout",
     "output_type": "stream",
     "text": [
      "  Country  Year   Area      Value\n",
      "0  Mexico  2018  Rural  434578.99\n"
     ]
    }
   ],
   "source": [
    "rural_2019={'Country':['Mexico'],'Year':['2018'],'Area':['Rural'],'Value':['434578.99']}\n",
    "rural2019=pd.DataFrame(rural_2019)\n",
    "print(rural2019)"
   ]
  },
  {
   "cell_type": "code",
   "execution_count": 46,
   "id": "b81c2b98-b88b-46de-81ea-cc591d4b8409",
   "metadata": {},
   "outputs": [
    {
     "name": "stdout",
     "output_type": "stream",
     "text": [
      "  Country  Year   Area    Value\n",
      "0  Mexico  2018  Urban  1422705\n"
     ]
    }
   ],
   "source": [
    "urban_2018={'Country':['Mexico'],'Year':['2018'],'Area':['Urban'],'Value':['1422705']}\n",
    "urban2018=pd.DataFrame(urban_2018)\n",
    "print(urban2018)"
   ]
  },
  {
   "cell_type": "code",
   "execution_count": 47,
   "id": "1f64015d-c910-43ae-97c2-aa2bdcf3b54c",
   "metadata": {},
   "outputs": [
    {
     "name": "stdout",
     "output_type": "stream",
     "text": [
      "  Country  Year   Area      Value\n",
      "0  Mexico  2019  Urban  1386572.5\n"
     ]
    }
   ],
   "source": [
    "urban_2019={'Country':['Mexico'],'Year':['2019'],'Area':['Urban'],'Value':['1386572.5']}\n",
    "urban2019=pd.DataFrame(urban_2019)\n",
    "print(urban2019)"
   ]
  },
  {
   "cell_type": "code",
   "execution_count": 48,
   "id": "fa9ff48d-e61c-4b8f-864c-eb2fc815817c",
   "metadata": {},
   "outputs": [],
   "source": [
    "import glob\n",
    "files_5=glob.glob(\"./archivos_5//*.txt\")"
   ]
  },
  {
   "cell_type": "code",
   "execution_count": 49,
   "id": "ba90a1b3-c6bf-43ff-af19-5ce245c9b846",
   "metadata": {},
   "outputs": [
    {
     "data": {
      "text/plain": [
       "['./archivos_5\\\\2018 Urban.txt', './archivos_5\\\\2019 Urban.txt']"
      ]
     },
     "execution_count": 49,
     "metadata": {},
     "output_type": "execute_result"
    }
   ],
   "source": [
    "files_5"
   ]
  },
  {
   "cell_type": "code",
   "execution_count": 50,
   "id": "dde70358-2cf2-471c-bb12-5b04022fc9a5",
   "metadata": {},
   "outputs": [
    {
     "data": {
      "text/html": [
       "<div>\n",
       "<style scoped>\n",
       "    .dataframe tbody tr th:only-of-type {\n",
       "        vertical-align: middle;\n",
       "    }\n",
       "\n",
       "    .dataframe tbody tr th {\n",
       "        vertical-align: top;\n",
       "    }\n",
       "\n",
       "    .dataframe thead th {\n",
       "        text-align: right;\n",
       "    }\n",
       "</style>\n",
       "<table border=\"1\" class=\"dataframe\">\n",
       "  <thead>\n",
       "    <tr style=\"text-align: right;\">\n",
       "      <th></th>\n",
       "      <th>Country</th>\n",
       "      <th>Year</th>\n",
       "      <th>Area</th>\n",
       "      <th>Value</th>\n",
       "    </tr>\n",
       "  </thead>\n",
       "  <tbody>\n",
       "    <tr>\n",
       "      <th>0</th>\n",
       "      <td>Mexico</td>\n",
       "      <td>2018</td>\n",
       "      <td>Urban</td>\n",
       "      <td>1422705</td>\n",
       "    </tr>\n",
       "  </tbody>\n",
       "</table>\n",
       "</div>"
      ],
      "text/plain": [
       "  Country  Year   Area    Value\n",
       "0  Mexico  2018  Urban  1422705"
      ]
     },
     "execution_count": 50,
     "metadata": {},
     "output_type": "execute_result"
    }
   ],
   "source": [
    "archivo9=pd.read_csv(files_5[0],usecols=[0,1,2,3])\n",
    "archivo9"
   ]
  },
  {
   "cell_type": "code",
   "execution_count": 51,
   "id": "887a74de-76a7-465a-a00d-8ed0c4c9633a",
   "metadata": {},
   "outputs": [
    {
     "data": {
      "text/html": [
       "<div>\n",
       "<style scoped>\n",
       "    .dataframe tbody tr th:only-of-type {\n",
       "        vertical-align: middle;\n",
       "    }\n",
       "\n",
       "    .dataframe tbody tr th {\n",
       "        vertical-align: top;\n",
       "    }\n",
       "\n",
       "    .dataframe thead th {\n",
       "        text-align: right;\n",
       "    }\n",
       "</style>\n",
       "<table border=\"1\" class=\"dataframe\">\n",
       "  <thead>\n",
       "    <tr style=\"text-align: right;\">\n",
       "      <th></th>\n",
       "      <th>Country</th>\n",
       "      <th>Year</th>\n",
       "      <th>Area</th>\n",
       "      <th>Value</th>\n",
       "    </tr>\n",
       "  </thead>\n",
       "  <tbody>\n",
       "    <tr>\n",
       "      <th>0</th>\n",
       "      <td>Mexico</td>\n",
       "      <td>2019</td>\n",
       "      <td>Urban</td>\n",
       "      <td>1386572.5</td>\n",
       "    </tr>\n",
       "  </tbody>\n",
       "</table>\n",
       "</div>"
      ],
      "text/plain": [
       "  Country  Year   Area      Value\n",
       "0  Mexico  2019  Urban  1386572.5"
      ]
     },
     "execution_count": 51,
     "metadata": {},
     "output_type": "execute_result"
    }
   ],
   "source": [
    "archivo10=pd.read_csv(files_5[1],usecols=[0,1,2,3])\n",
    "archivo10"
   ]
  },
  {
   "cell_type": "code",
   "execution_count": 52,
   "id": "7661f92f-59d8-4ca0-a2e1-270e6d3adbcb",
   "metadata": {},
   "outputs": [
    {
     "data": {
      "text/html": [
       "<div>\n",
       "<style scoped>\n",
       "    .dataframe tbody tr th:only-of-type {\n",
       "        vertical-align: middle;\n",
       "    }\n",
       "\n",
       "    .dataframe tbody tr th {\n",
       "        vertical-align: top;\n",
       "    }\n",
       "\n",
       "    .dataframe thead th {\n",
       "        text-align: right;\n",
       "    }\n",
       "</style>\n",
       "<table border=\"1\" class=\"dataframe\">\n",
       "  <thead>\n",
       "    <tr style=\"text-align: right;\">\n",
       "      <th></th>\n",
       "      <th>Country</th>\n",
       "      <th>Year</th>\n",
       "      <th>Area</th>\n",
       "      <th>Value</th>\n",
       "    </tr>\n",
       "  </thead>\n",
       "  <tbody>\n",
       "    <tr>\n",
       "      <th>0</th>\n",
       "      <td>Mexico</td>\n",
       "      <td>2015</td>\n",
       "      <td>Urban</td>\n",
       "      <td>1540464.0</td>\n",
       "    </tr>\n",
       "    <tr>\n",
       "      <th>0</th>\n",
       "      <td>Mexico</td>\n",
       "      <td>2016</td>\n",
       "      <td>Urban</td>\n",
       "      <td>1476247.0</td>\n",
       "    </tr>\n",
       "    <tr>\n",
       "      <th>0</th>\n",
       "      <td>Mexico</td>\n",
       "      <td>2017</td>\n",
       "      <td>Urban</td>\n",
       "      <td>1468199.0</td>\n",
       "    </tr>\n",
       "    <tr>\n",
       "      <th>0</th>\n",
       "      <td>Mexico</td>\n",
       "      <td>2018</td>\n",
       "      <td>Urban</td>\n",
       "      <td>1422705.0</td>\n",
       "    </tr>\n",
       "    <tr>\n",
       "      <th>0</th>\n",
       "      <td>Mexico</td>\n",
       "      <td>2019</td>\n",
       "      <td>Urban</td>\n",
       "      <td>1386572.5</td>\n",
       "    </tr>\n",
       "  </tbody>\n",
       "</table>\n",
       "</div>"
      ],
      "text/plain": [
       "  Country  Year   Area      Value\n",
       "0  Mexico  2015  Urban  1540464.0\n",
       "0  Mexico  2016  Urban  1476247.0\n",
       "0  Mexico  2017  Urban  1468199.0\n",
       "0  Mexico  2018  Urban  1422705.0\n",
       "0  Mexico  2019  Urban  1386572.5"
      ]
     },
     "execution_count": 52,
     "metadata": {},
     "output_type": "execute_result"
    }
   ],
   "source": [
    "total1_urban=pd.concat([archivo,archivo2,archivo3,archivo9,archivo10])\n",
    "total1_urban"
   ]
  },
  {
   "cell_type": "code",
   "execution_count": 53,
   "id": "7a780cc8-23de-4d79-8f73-d58f9614d62c",
   "metadata": {},
   "outputs": [
    {
     "data": {
      "text/html": [
       "<h2>Total de natalicios en zonas urbanos predicción</h2>"
      ],
      "text/plain": [
       "<IPython.core.display.HTML object>"
      ]
     },
     "metadata": {},
     "output_type": "display_data"
    },
    {
     "data": {
      "image/png": "[encoded data removed]",
      "text/plain": [
       "<Figure size 360x360 with 1 Axes>"
      ]
     },
     "metadata": {
      "needs_background": "light"
     },
     "output_type": "display_data"
    }
   ],
   "source": [
    "grafica=sns.lmplot(x=('Year'),y=('Value'),data=total1_urban,palette='Set1')\n",
    "from IPython.display import HTML, display_html, display\n",
    "display(HTML('<h2>Total de natalicios en zonas urbanos predicción</h2>'))\n",
    "display_html(grafica)"
   ]
  },
  {
   "cell_type": "code",
   "execution_count": 54,
   "id": "4b9985f9-682c-48ef-80e1-8d2080a3c107",
   "metadata": {},
   "outputs": [
    {
     "data": {
      "text/plain": [
       "['./archivos_6\\\\2018 Rural.txt', './archivos_6\\\\2019 Rural.txt']"
      ]
     },
     "execution_count": 54,
     "metadata": {},
     "output_type": "execute_result"
    }
   ],
   "source": [
    "import glob\n",
    "files_6=glob.glob(\"./archivos_6//*.txt\")\n",
    "files_6"
   ]
  },
  {
   "cell_type": "code",
   "execution_count": 55,
   "id": "1af7a27c-045c-49a4-bdcc-a46eeb1912c7",
   "metadata": {},
   "outputs": [
    {
     "data": {
      "text/html": [
       "<div>\n",
       "<style scoped>\n",
       "    .dataframe tbody tr th:only-of-type {\n",
       "        vertical-align: middle;\n",
       "    }\n",
       "\n",
       "    .dataframe tbody tr th {\n",
       "        vertical-align: top;\n",
       "    }\n",
       "\n",
       "    .dataframe thead th {\n",
       "        text-align: right;\n",
       "    }\n",
       "</style>\n",
       "<table border=\"1\" class=\"dataframe\">\n",
       "  <thead>\n",
       "    <tr style=\"text-align: right;\">\n",
       "      <th></th>\n",
       "      <th>Country</th>\n",
       "      <th>Year</th>\n",
       "      <th>Area</th>\n",
       "      <th>Value</th>\n",
       "    </tr>\n",
       "  </thead>\n",
       "  <tbody>\n",
       "    <tr>\n",
       "      <th>0</th>\n",
       "      <td>Mexico</td>\n",
       "      <td>2018</td>\n",
       "      <td>Rural</td>\n",
       "      <td>436538.99</td>\n",
       "    </tr>\n",
       "  </tbody>\n",
       "</table>\n",
       "</div>"
      ],
      "text/plain": [
       "  Country  Year   Area      Value\n",
       "0  Mexico  2018  Rural  436538.99"
      ]
     },
     "execution_count": 55,
     "metadata": {},
     "output_type": "execute_result"
    }
   ],
   "source": [
    "archivo11=pd.read_csv(files_6[0],usecols=[0,1,2,3])\n",
    "archivo11"
   ]
  },
  {
   "cell_type": "code",
   "execution_count": 56,
   "id": "e52a6b89-c6d7-4c3b-9ec0-50a9269fe597",
   "metadata": {},
   "outputs": [
    {
     "data": {
      "text/html": [
       "<div>\n",
       "<style scoped>\n",
       "    .dataframe tbody tr th:only-of-type {\n",
       "        vertical-align: middle;\n",
       "    }\n",
       "\n",
       "    .dataframe tbody tr th {\n",
       "        vertical-align: top;\n",
       "    }\n",
       "\n",
       "    .dataframe thead th {\n",
       "        text-align: right;\n",
       "    }\n",
       "</style>\n",
       "<table border=\"1\" class=\"dataframe\">\n",
       "  <thead>\n",
       "    <tr style=\"text-align: right;\">\n",
       "      <th></th>\n",
       "      <th>Country</th>\n",
       "      <th>Year</th>\n",
       "      <th>Area</th>\n",
       "      <th>Value</th>\n",
       "    </tr>\n",
       "  </thead>\n",
       "  <tbody>\n",
       "    <tr>\n",
       "      <th>0</th>\n",
       "      <td>Mexico</td>\n",
       "      <td>2019</td>\n",
       "      <td>Rural</td>\n",
       "      <td>434578.99</td>\n",
       "    </tr>\n",
       "  </tbody>\n",
       "</table>\n",
       "</div>"
      ],
      "text/plain": [
       "  Country  Year   Area      Value\n",
       "0  Mexico  2019  Rural  434578.99"
      ]
     },
     "execution_count": 56,
     "metadata": {},
     "output_type": "execute_result"
    }
   ],
   "source": [
    "archivo12=pd.read_csv(files_6[1],usecols=[0,1,2,3])\n",
    "archivo12"
   ]
  },
  {
   "cell_type": "code",
   "execution_count": 57,
   "id": "bf6e9ff1-04bc-4a9c-94c4-3cb3f8529338",
   "metadata": {},
   "outputs": [
    {
     "data": {
      "text/html": [
       "<div>\n",
       "<style scoped>\n",
       "    .dataframe tbody tr th:only-of-type {\n",
       "        vertical-align: middle;\n",
       "    }\n",
       "\n",
       "    .dataframe tbody tr th {\n",
       "        vertical-align: top;\n",
       "    }\n",
       "\n",
       "    .dataframe thead th {\n",
       "        text-align: right;\n",
       "    }\n",
       "</style>\n",
       "<table border=\"1\" class=\"dataframe\">\n",
       "  <thead>\n",
       "    <tr style=\"text-align: right;\">\n",
       "      <th></th>\n",
       "      <th>Country</th>\n",
       "      <th>Year</th>\n",
       "      <th>Area</th>\n",
       "      <th>Value</th>\n",
       "    </tr>\n",
       "  </thead>\n",
       "  <tbody>\n",
       "    <tr>\n",
       "      <th>0</th>\n",
       "      <td>Mexico</td>\n",
       "      <td>2015</td>\n",
       "      <td>Rural</td>\n",
       "      <td>442539.00</td>\n",
       "    </tr>\n",
       "    <tr>\n",
       "      <th>0</th>\n",
       "      <td>Mexico</td>\n",
       "      <td>2016</td>\n",
       "      <td>Rural</td>\n",
       "      <td>440219.00</td>\n",
       "    </tr>\n",
       "    <tr>\n",
       "      <th>0</th>\n",
       "      <td>Mexico</td>\n",
       "      <td>2017</td>\n",
       "      <td>Rural</td>\n",
       "      <td>438619.00</td>\n",
       "    </tr>\n",
       "    <tr>\n",
       "      <th>0</th>\n",
       "      <td>Mexico</td>\n",
       "      <td>2018</td>\n",
       "      <td>Rural</td>\n",
       "      <td>436538.99</td>\n",
       "    </tr>\n",
       "    <tr>\n",
       "      <th>0</th>\n",
       "      <td>Mexico</td>\n",
       "      <td>2019</td>\n",
       "      <td>Rural</td>\n",
       "      <td>434578.99</td>\n",
       "    </tr>\n",
       "  </tbody>\n",
       "</table>\n",
       "</div>"
      ],
      "text/plain": [
       "  Country  Year   Area      Value\n",
       "0  Mexico  2015  Rural  442539.00\n",
       "0  Mexico  2016  Rural  440219.00\n",
       "0  Mexico  2017  Rural  438619.00\n",
       "0  Mexico  2018  Rural  436538.99\n",
       "0  Mexico  2019  Rural  434578.99"
      ]
     },
     "execution_count": 57,
     "metadata": {},
     "output_type": "execute_result"
    }
   ],
   "source": [
    "total1_rural=pd.concat([archivo4,archivo5,archivo6,archivo11,archivo12])\n",
    "total1_rural"
   ]
  },
  {
   "cell_type": "code",
   "execution_count": 58,
   "id": "6a9a44d5-0b73-4c7a-8e67-e4122a450cc5",
   "metadata": {},
   "outputs": [
    {
     "data": {
      "text/html": [
       "<h2>Total de natalicios en zonas rurales predicción</h2>"
      ],
      "text/plain": [
       "<IPython.core.display.HTML object>"
      ]
     },
     "metadata": {},
     "output_type": "display_data"
    },
    {
     "data": {
      "image/png": "[encoded data removed]",
      "text/plain": [
       "<Figure size 360x360 with 1 Axes>"
      ]
     },
     "metadata": {
      "needs_background": "light"
     },
     "output_type": "display_data"
    }
   ],
   "source": [
    "grafica1=sns.lmplot(x=('Year'),y=('Value'),data=total1_rural,palette='Set1')\n",
    "from IPython.display import HTML, display_html, display\n",
    "display(HTML('<h2>Total de natalicios en zonas rurales predicción</h2>'))\n",
    "display_html(grafica1)"
   ]
  },
  {
   "cell_type": "code",
   "execution_count": 59,
   "id": "3401dacf-bdf4-45f3-8474-d8a32aef4915",
   "metadata": {},
   "outputs": [
    {
     "name": "stdout",
     "output_type": "stream",
     "text": [
      "  Country  Year   Area       Value\n",
      "0  Mexico  2018  Total  1859243.99\n"
     ]
    }
   ],
   "source": [
    "##Comparación entre los resultados\n",
    "datos={'Country':['Mexico'],'Year':['2018'],'Area':['Total'],'Value':['1859243.99']}\n",
    "df=pd.DataFrame(datos)\n",
    "print(df)"
   ]
  },
  {
   "cell_type": "code",
   "execution_count": 60,
   "id": "061d3401-9e04-42fd-9887-bf8182437813",
   "metadata": {},
   "outputs": [
    {
     "name": "stdout",
     "output_type": "stream",
     "text": [
      "  Country  Year   Area       Value\n",
      "0  Mexico  2019  Total  1821151.49\n"
     ]
    }
   ],
   "source": [
    "datos_2={'Country':['Mexico'],'Year':['2019'],'Area':['Total'],'Value':['1821151.49']}\n",
    "df_2=pd.DataFrame(datos_2)\n",
    "print(df_2)"
   ]
  },
  {
   "cell_type": "code",
   "execution_count": 61,
   "id": "26a55724-195e-4f47-9d9a-e6d3af93ebdb",
   "metadata": {},
   "outputs": [
    {
     "data": {
      "text/html": [
       "<h2>Comparación entre los datos de UnData y las predicciones de la regresión</h2>"
      ],
      "text/plain": [
       "<IPython.core.display.HTML object>"
      ]
     },
     "metadata": {},
     "output_type": "display_data"
    },
    {
     "data": {
      "text/html": [
       "<div>\n",
       "<style scoped>\n",
       "    .dataframe tbody tr th:only-of-type {\n",
       "        vertical-align: middle;\n",
       "    }\n",
       "\n",
       "    .dataframe tbody tr th {\n",
       "        vertical-align: top;\n",
       "    }\n",
       "\n",
       "    .dataframe thead th {\n",
       "        text-align: right;\n",
       "    }\n",
       "</style>\n",
       "<table border=\"1\" class=\"dataframe\">\n",
       "  <thead>\n",
       "    <tr style=\"text-align: right;\">\n",
       "      <th></th>\n",
       "      <th>Country</th>\n",
       "      <th>Year</th>\n",
       "      <th>Area</th>\n",
       "      <th>Value</th>\n",
       "    </tr>\n",
       "  </thead>\n",
       "  <tbody>\n",
       "    <tr>\n",
       "      <th>0</th>\n",
       "      <td>Mexico</td>\n",
       "      <td>2018</td>\n",
       "      <td>Total</td>\n",
       "      <td>2162535</td>\n",
       "    </tr>\n",
       "    <tr>\n",
       "      <th>0</th>\n",
       "      <td>Mexico</td>\n",
       "      <td>2019</td>\n",
       "      <td>Total</td>\n",
       "      <td>2092214</td>\n",
       "    </tr>\n",
       "    <tr>\n",
       "      <th>0</th>\n",
       "      <td>Mexico</td>\n",
       "      <td>2018</td>\n",
       "      <td>Total</td>\n",
       "      <td>1859243.99</td>\n",
       "    </tr>\n",
       "    <tr>\n",
       "      <th>0</th>\n",
       "      <td>Mexico</td>\n",
       "      <td>2019</td>\n",
       "      <td>Total</td>\n",
       "      <td>1821151.49</td>\n",
       "    </tr>\n",
       "  </tbody>\n",
       "</table>\n",
       "</div>"
      ]
     },
     "metadata": {},
     "output_type": "display_data"
    }
   ],
   "source": [
    "TOTAL=pd.concat([archivo7,archivo8,df,df_2], axis=0)\n",
    "from IPython.display import HTML, display_html, display\n",
    "display(HTML('<h2>Comparación entre los datos de UnData y las predicciones de la regresión</h2>'))\n",
    "display_html(TOTAL)"
   ]
  },
  {
   "cell_type": "code",
   "execution_count": 62,
   "id": "6a4914b0-242e-4cd9-a75e-5b43b4e5a6ec",
   "metadata": {},
   "outputs": [
    {
     "data": {
      "text/plain": [
       "['./archivos_7\\\\2015 Total.txt',\n",
       " './archivos_7\\\\2016 Total.txt',\n",
       " './archivos_7\\\\2017 Total.txt']"
      ]
     },
     "execution_count": 62,
     "metadata": {},
     "output_type": "execute_result"
    }
   ],
   "source": [
    "import glob\n",
    "files_7=glob.glob(\"./archivos_7//*.txt\")\n",
    "files_7"
   ]
  },
  {
   "cell_type": "code",
   "execution_count": 63,
   "id": "817af5c9-025c-4d47-92e9-1ba50380a36c",
   "metadata": {},
   "outputs": [
    {
     "data": {
      "text/html": [
       "<div>\n",
       "<style scoped>\n",
       "    .dataframe tbody tr th:only-of-type {\n",
       "        vertical-align: middle;\n",
       "    }\n",
       "\n",
       "    .dataframe tbody tr th {\n",
       "        vertical-align: top;\n",
       "    }\n",
       "\n",
       "    .dataframe thead th {\n",
       "        text-align: right;\n",
       "    }\n",
       "</style>\n",
       "<table border=\"1\" class=\"dataframe\">\n",
       "  <thead>\n",
       "    <tr style=\"text-align: right;\">\n",
       "      <th></th>\n",
       "      <th>Country</th>\n",
       "      <th>Year</th>\n",
       "      <th>Area</th>\n",
       "      <th>Value</th>\n",
       "    </tr>\n",
       "  </thead>\n",
       "  <tbody>\n",
       "    <tr>\n",
       "      <th>0</th>\n",
       "      <td>Mexico</td>\n",
       "      <td>2015</td>\n",
       "      <td>Total</td>\n",
       "      <td>2096274</td>\n",
       "    </tr>\n",
       "  </tbody>\n",
       "</table>\n",
       "</div>"
      ],
      "text/plain": [
       "  Country  Year   Area    Value\n",
       "0  Mexico  2015  Total  2096274"
      ]
     },
     "execution_count": 63,
     "metadata": {},
     "output_type": "execute_result"
    }
   ],
   "source": [
    "archivo13=pd.read_csv(files_7[0],usecols=[0,1,2,3])\n",
    "archivo13"
   ]
  },
  {
   "cell_type": "code",
   "execution_count": 64,
   "id": "be2da56c-38de-45fa-bac4-692a17ddc351",
   "metadata": {},
   "outputs": [
    {
     "data": {
      "text/html": [
       "<div>\n",
       "<style scoped>\n",
       "    .dataframe tbody tr th:only-of-type {\n",
       "        vertical-align: middle;\n",
       "    }\n",
       "\n",
       "    .dataframe tbody tr th {\n",
       "        vertical-align: top;\n",
       "    }\n",
       "\n",
       "    .dataframe thead th {\n",
       "        text-align: right;\n",
       "    }\n",
       "</style>\n",
       "<table border=\"1\" class=\"dataframe\">\n",
       "  <thead>\n",
       "    <tr style=\"text-align: right;\">\n",
       "      <th></th>\n",
       "      <th>Country</th>\n",
       "      <th>Year</th>\n",
       "      <th>Area</th>\n",
       "      <th>Value</th>\n",
       "    </tr>\n",
       "  </thead>\n",
       "  <tbody>\n",
       "    <tr>\n",
       "      <th>0</th>\n",
       "      <td>Mexico</td>\n",
       "      <td>2016</td>\n",
       "      <td>Total</td>\n",
       "      <td>2028358</td>\n",
       "    </tr>\n",
       "  </tbody>\n",
       "</table>\n",
       "</div>"
      ],
      "text/plain": [
       "  Country  Year   Area    Value\n",
       "0  Mexico  2016  Total  2028358"
      ]
     },
     "execution_count": 64,
     "metadata": {},
     "output_type": "execute_result"
    }
   ],
   "source": [
    "archivo14=pd.read_csv(files_7[1],usecols=[0,1,2,3])\n",
    "archivo14"
   ]
  },
  {
   "cell_type": "code",
   "execution_count": 65,
   "id": "d8d150e6-b406-414d-a0b1-85f1eeba1515",
   "metadata": {},
   "outputs": [
    {
     "data": {
      "text/html": [
       "<div>\n",
       "<style scoped>\n",
       "    .dataframe tbody tr th:only-of-type {\n",
       "        vertical-align: middle;\n",
       "    }\n",
       "\n",
       "    .dataframe tbody tr th {\n",
       "        vertical-align: top;\n",
       "    }\n",
       "\n",
       "    .dataframe thead th {\n",
       "        text-align: right;\n",
       "    }\n",
       "</style>\n",
       "<table border=\"1\" class=\"dataframe\">\n",
       "  <thead>\n",
       "    <tr style=\"text-align: right;\">\n",
       "      <th></th>\n",
       "      <th>Country</th>\n",
       "      <th>Year</th>\n",
       "      <th>Area</th>\n",
       "      <th>Value</th>\n",
       "    </tr>\n",
       "  </thead>\n",
       "  <tbody>\n",
       "    <tr>\n",
       "      <th>0</th>\n",
       "      <td>Mexico</td>\n",
       "      <td>2017</td>\n",
       "      <td>Total</td>\n",
       "      <td>2000591</td>\n",
       "    </tr>\n",
       "  </tbody>\n",
       "</table>\n",
       "</div>"
      ],
      "text/plain": [
       "  Country  Year   Area    Value\n",
       "0  Mexico  2017  Total  2000591"
      ]
     },
     "execution_count": 65,
     "metadata": {},
     "output_type": "execute_result"
    }
   ],
   "source": [
    "archivo15=pd.read_csv(files_7[2],usecols=[0,1,2,3])\n",
    "archivo15"
   ]
  },
  {
   "cell_type": "code",
   "execution_count": 66,
   "id": "a92c06a7-92c2-48be-8fd3-678524af69c4",
   "metadata": {},
   "outputs": [
    {
     "data": {
      "text/html": [
       "<div>\n",
       "<style scoped>\n",
       "    .dataframe tbody tr th:only-of-type {\n",
       "        vertical-align: middle;\n",
       "    }\n",
       "\n",
       "    .dataframe tbody tr th {\n",
       "        vertical-align: top;\n",
       "    }\n",
       "\n",
       "    .dataframe thead th {\n",
       "        text-align: right;\n",
       "    }\n",
       "</style>\n",
       "<table border=\"1\" class=\"dataframe\">\n",
       "  <thead>\n",
       "    <tr style=\"text-align: right;\">\n",
       "      <th></th>\n",
       "      <th>Country</th>\n",
       "      <th>Year</th>\n",
       "      <th>Area</th>\n",
       "      <th>Value</th>\n",
       "    </tr>\n",
       "  </thead>\n",
       "  <tbody>\n",
       "    <tr>\n",
       "      <th>0</th>\n",
       "      <td>Mexico</td>\n",
       "      <td>2015</td>\n",
       "      <td>Total</td>\n",
       "      <td>2096274</td>\n",
       "    </tr>\n",
       "    <tr>\n",
       "      <th>0</th>\n",
       "      <td>Mexico</td>\n",
       "      <td>2016</td>\n",
       "      <td>Total</td>\n",
       "      <td>2028358</td>\n",
       "    </tr>\n",
       "    <tr>\n",
       "      <th>0</th>\n",
       "      <td>Mexico</td>\n",
       "      <td>2017</td>\n",
       "      <td>Total</td>\n",
       "      <td>2000591</td>\n",
       "    </tr>\n",
       "    <tr>\n",
       "      <th>0</th>\n",
       "      <td>Mexico</td>\n",
       "      <td>2018</td>\n",
       "      <td>Total</td>\n",
       "      <td>2162535</td>\n",
       "    </tr>\n",
       "    <tr>\n",
       "      <th>0</th>\n",
       "      <td>Mexico</td>\n",
       "      <td>2019</td>\n",
       "      <td>Total</td>\n",
       "      <td>2092214</td>\n",
       "    </tr>\n",
       "  </tbody>\n",
       "</table>\n",
       "</div>"
      ],
      "text/plain": [
       "  Country  Year   Area    Value\n",
       "0  Mexico  2015  Total  2096274\n",
       "0  Mexico  2016  Total  2028358\n",
       "0  Mexico  2017  Total  2000591\n",
       "0  Mexico  2018  Total  2162535\n",
       "0  Mexico  2019  Total  2092214"
      ]
     },
     "execution_count": 66,
     "metadata": {},
     "output_type": "execute_result"
    }
   ],
   "source": [
    "Total_general=pd.concat([archivo13,archivo14,archivo15,archivo7,archivo8])\n",
    "Total_general"
   ]
  },
  {
   "cell_type": "code",
   "execution_count": 67,
   "id": "9185a908-fd9e-46d2-a693-701ab8ff1521",
   "metadata": {},
   "outputs": [
    {
     "data": {
      "text/html": [
       "<h2>Total de natalicios Undata</h2>"
      ],
      "text/plain": [
       "<IPython.core.display.HTML object>"
      ]
     },
     "metadata": {},
     "output_type": "display_data"
    },
    {
     "data": {
      "image/png": "[encoded data removed]",
      "text/plain": [
       "<Figure size 360x360 with 1 Axes>"
      ]
     },
     "metadata": {
      "needs_background": "light"
     },
     "output_type": "display_data"
    }
   ],
   "source": [
    "grafica2=sns.lmplot(x=('Year'),y=('Value'),data=Total_general,palette='Set1')\n",
    "from IPython.display import HTML, display_html, display\n",
    "display(HTML('<h2>Total de natalicios Undata</h2>'))\n",
    "display_html(grafica2)"
   ]
  },
  {
   "cell_type": "code",
   "execution_count": 68,
   "id": "4ccb9eb8-cf4c-4d8d-8486-28f4a939a569",
   "metadata": {},
   "outputs": [
    {
     "data": {
      "text/plain": [
       "['./archivos8\\\\2018_prediccion.txt', './archivos8\\\\2019 prediccion.txt']"
      ]
     },
     "execution_count": 68,
     "metadata": {},
     "output_type": "execute_result"
    }
   ],
   "source": [
    "import glob\n",
    "files_8=glob.glob(\"./archivos8//*.txt\")\n",
    "files_8"
   ]
  },
  {
   "cell_type": "code",
   "execution_count": 69,
   "id": "d5f68506-33cf-4240-9915-296d06ce1edc",
   "metadata": {},
   "outputs": [
    {
     "data": {
      "text/html": [
       "<div>\n",
       "<style scoped>\n",
       "    .dataframe tbody tr th:only-of-type {\n",
       "        vertical-align: middle;\n",
       "    }\n",
       "\n",
       "    .dataframe tbody tr th {\n",
       "        vertical-align: top;\n",
       "    }\n",
       "\n",
       "    .dataframe thead th {\n",
       "        text-align: right;\n",
       "    }\n",
       "</style>\n",
       "<table border=\"1\" class=\"dataframe\">\n",
       "  <thead>\n",
       "    <tr style=\"text-align: right;\">\n",
       "      <th></th>\n",
       "      <th>Country</th>\n",
       "      <th>Year</th>\n",
       "      <th>Area</th>\n",
       "      <th>Value</th>\n",
       "    </tr>\n",
       "  </thead>\n",
       "  <tbody>\n",
       "    <tr>\n",
       "      <th>0</th>\n",
       "      <td>Mexico</td>\n",
       "      <td>2018</td>\n",
       "      <td>Total</td>\n",
       "      <td>1859243.99</td>\n",
       "    </tr>\n",
       "  </tbody>\n",
       "</table>\n",
       "</div>"
      ],
      "text/plain": [
       "  Country  Year   Area       Value\n",
       "0  Mexico  2018  Total  1859243.99"
      ]
     },
     "execution_count": 69,
     "metadata": {},
     "output_type": "execute_result"
    }
   ],
   "source": [
    "archivo16=pd.read_csv(files_8[0],usecols=[0,1,2,3])\n",
    "archivo16"
   ]
  },
  {
   "cell_type": "code",
   "execution_count": 70,
   "id": "643acd97-edf0-4d28-9263-e801b29fc004",
   "metadata": {},
   "outputs": [
    {
     "data": {
      "text/html": [
       "<div>\n",
       "<style scoped>\n",
       "    .dataframe tbody tr th:only-of-type {\n",
       "        vertical-align: middle;\n",
       "    }\n",
       "\n",
       "    .dataframe tbody tr th {\n",
       "        vertical-align: top;\n",
       "    }\n",
       "\n",
       "    .dataframe thead th {\n",
       "        text-align: right;\n",
       "    }\n",
       "</style>\n",
       "<table border=\"1\" class=\"dataframe\">\n",
       "  <thead>\n",
       "    <tr style=\"text-align: right;\">\n",
       "      <th></th>\n",
       "      <th>Country</th>\n",
       "      <th>Year</th>\n",
       "      <th>Area</th>\n",
       "      <th>Value</th>\n",
       "    </tr>\n",
       "  </thead>\n",
       "  <tbody>\n",
       "    <tr>\n",
       "      <th>0</th>\n",
       "      <td>Mexico</td>\n",
       "      <td>2019</td>\n",
       "      <td>Total</td>\n",
       "      <td>1821151.49</td>\n",
       "    </tr>\n",
       "  </tbody>\n",
       "</table>\n",
       "</div>"
      ],
      "text/plain": [
       "  Country  Year   Area       Value\n",
       "0  Mexico  2019  Total  1821151.49"
      ]
     },
     "execution_count": 70,
     "metadata": {},
     "output_type": "execute_result"
    }
   ],
   "source": [
    "archivo17=pd.read_csv(files_8[1],usecols=[0,1,2,3])\n",
    "archivo17"
   ]
  },
  {
   "cell_type": "code",
   "execution_count": 71,
   "id": "4729e729-ad53-4766-abb7-f8745852cf0f",
   "metadata": {},
   "outputs": [
    {
     "data": {
      "text/html": [
       "<div>\n",
       "<style scoped>\n",
       "    .dataframe tbody tr th:only-of-type {\n",
       "        vertical-align: middle;\n",
       "    }\n",
       "\n",
       "    .dataframe tbody tr th {\n",
       "        vertical-align: top;\n",
       "    }\n",
       "\n",
       "    .dataframe thead th {\n",
       "        text-align: right;\n",
       "    }\n",
       "</style>\n",
       "<table border=\"1\" class=\"dataframe\">\n",
       "  <thead>\n",
       "    <tr style=\"text-align: right;\">\n",
       "      <th></th>\n",
       "      <th>Country</th>\n",
       "      <th>Year</th>\n",
       "      <th>Area</th>\n",
       "      <th>Value</th>\n",
       "    </tr>\n",
       "  </thead>\n",
       "  <tbody>\n",
       "    <tr>\n",
       "      <th>0</th>\n",
       "      <td>Mexico</td>\n",
       "      <td>2015</td>\n",
       "      <td>Total</td>\n",
       "      <td>2096274.00</td>\n",
       "    </tr>\n",
       "    <tr>\n",
       "      <th>0</th>\n",
       "      <td>Mexico</td>\n",
       "      <td>2016</td>\n",
       "      <td>Total</td>\n",
       "      <td>2028358.00</td>\n",
       "    </tr>\n",
       "    <tr>\n",
       "      <th>0</th>\n",
       "      <td>Mexico</td>\n",
       "      <td>2017</td>\n",
       "      <td>Total</td>\n",
       "      <td>2000591.00</td>\n",
       "    </tr>\n",
       "    <tr>\n",
       "      <th>0</th>\n",
       "      <td>Mexico</td>\n",
       "      <td>2018</td>\n",
       "      <td>Total</td>\n",
       "      <td>1859243.99</td>\n",
       "    </tr>\n",
       "    <tr>\n",
       "      <th>0</th>\n",
       "      <td>Mexico</td>\n",
       "      <td>2019</td>\n",
       "      <td>Total</td>\n",
       "      <td>1821151.49</td>\n",
       "    </tr>\n",
       "  </tbody>\n",
       "</table>\n",
       "</div>"
      ],
      "text/plain": [
       "  Country  Year   Area       Value\n",
       "0  Mexico  2015  Total  2096274.00\n",
       "0  Mexico  2016  Total  2028358.00\n",
       "0  Mexico  2017  Total  2000591.00\n",
       "0  Mexico  2018  Total  1859243.99\n",
       "0  Mexico  2019  Total  1821151.49"
      ]
     },
     "execution_count": 71,
     "metadata": {},
     "output_type": "execute_result"
    }
   ],
   "source": [
    "Total_pred=pd.concat([archivo13,archivo14,archivo15,archivo16,archivo17], axis=0)\n",
    "Total_pred"
   ]
  },
  {
   "cell_type": "code",
   "execution_count": 72,
   "id": "17a01d26-f78d-4383-a84a-e74f8787017b",
   "metadata": {},
   "outputs": [
    {
     "data": {
      "text/html": [
       "<h2>Total de natalicios predicción</h2>"
      ],
      "text/plain": [
       "<IPython.core.display.HTML object>"
      ]
     },
     "metadata": {},
     "output_type": "display_data"
    },
    {
     "data": {
      "image/png": "[encoded data removed]",
      "text/plain": [
       "<Figure size 360x360 with 1 Axes>"
      ]
     },
     "metadata": {
      "needs_background": "light"
     },
     "output_type": "display_data"
    }
   ],
   "source": [
    "grafica3=sns.lmplot(x=('Year'),y=('Value'),data=Total_pred,palette='Set1')\n",
    "from IPython.display import HTML, display_html, display\n",
    "display(HTML('<h2>Total de natalicios predicción</h2>'))\n",
    "display_html(grafica2)"
   ]
  }
 ],
 "metadata": {
  "kernelspec": {
   "display_name": "MiEntorno",
   "language": "python",
   "name": "mientorno"
  },
  "language_info": {
   "codemirror_mode": {
    "name": "ipython",
    "version": 3
   },
   "file_extension": ".py",
   "mimetype": "text/x-python",
   "name": "python",
   "nbconvert_exporter": "python",
   "pygments_lexer": "ipython3",
   "version": "3.8.8"
  }
 },
 "nbformat": 4,
 "nbformat_minor": 5
}
